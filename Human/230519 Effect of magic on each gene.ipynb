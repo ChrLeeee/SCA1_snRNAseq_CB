{
 "cells": [
  {
   "cell_type": "code",
   "execution_count": 1,
   "metadata": {},
   "outputs": [],
   "source": [
    "%matplotlib inline\n",
    "%load_ext memory_profiler\n",
    "\n",
    "import os, sys, glob, re, math, pickle\n",
    "import phate,scprep,magic,meld\n",
    "import graphtools as gt\n",
    "import numpy as np\n",
    "import seaborn as sns\n",
    "import matplotlib.pyplot as plt\n",
    "import pandas as pd\n",
    "import time,random,datetime\n",
    "from sklearn import metrics\n",
    "from sklearn import model_selection\n",
    "from scipy import sparse\n",
    "from scipy.stats import mannwhitneyu, tiecorrect, rankdata\n",
    "from statsmodels.stats.multitest import multipletests\n",
    "import scanpy as sc\n",
    "import scvelo as scv\n",
    "from adjustText import adjust_text\n",
    "import warnings\n",
    "from matplotlib import gridspec\n",
    "\n",
    "\n",
    "\n",
    "# settings\n",
    "plt.rc('font', size = 9)\n",
    "plt.rc('font', family='sans serif')\n",
    "plt.rcParams['pdf.fonttype']=42\n",
    "plt.rcParams['ps.fonttype']=42\n",
    "plt.rcParams['text.usetex']=False\n",
    "plt.rcParams['legend.frameon']=False\n",
    "plt.rcParams['axes.grid']=False\n",
    "plt.rcParams['legend.markerscale']=0.5\n",
    "sc.set_figure_params(dpi=300,dpi_save=600,\n",
    "                     frameon=False,\n",
    "                     fontsize=9)\n",
    "plt.rcParams['savefig.dpi']=600\n",
    "sc.settings.verbosity=2\n",
    "sc._settings.ScanpyConfig.n_jobs=-1\n",
    "sns.set_style(\"ticks\")"
   ]
  },
  {
   "cell_type": "code",
   "execution_count": 2,
   "metadata": {},
   "outputs": [],
   "source": [
    "# fps\n",
    "dfp = '/home/cl2292/project/SCA1_snRNAseq/Human/data/'\n",
    "pfp = '/home/cl2292/project/SCA1_snRNAseq/Human/results_20230402/'\n",
    "pdfp = '/home/cl2292/project/SCA1_snRNAseq/Human/data/processed/'\n",
    "sc.settings.figdir = pfp"
   ]
  },
  {
   "cell_type": "code",
   "execution_count": 3,
   "metadata": {},
   "outputs": [],
   "source": [
    "# settings\n",
    "plt.rc('font', size = 8)\n",
    "plt.rc('font', family='sans serif')\n",
    "plt.rcParams['pdf.fonttype']=42\n",
    "plt.rcParams['ps.fonttype']=42\n",
    "plt.rcParams['text.usetex']=False\n",
    "plt.rcParams['legend.frameon']=False\n",
    "plt.rcParams['axes.grid']=False\n",
    "plt.rcParams['legend.markerscale']=0.5\n",
    "sc.set_figure_params(dpi=300,dpi_save=600,\n",
    "                     frameon=False,\n",
    "                     fontsize=8)\n",
    "plt.rcParams['savefig.dpi']=600\n",
    "sc.settings.verbosity=2\n",
    "sc._settings.ScanpyConfig.n_jobs=-1\n",
    "\n"
   ]
  },
  {
   "cell_type": "code",
   "execution_count": 4,
   "metadata": {},
   "outputs": [
    {
     "name": "stdout",
     "output_type": "stream",
     "text": [
      "peak memory: 43226.09 MiB, increment: 43026.75 MiB\n",
      "loaded @230519.11:44:47\n",
      "took 39.23-s to load data\n",
      "peak memory: 73473.84 MiB, increment: 30247.66 MiB\n",
      "loaded @230519.11:45:19\n",
      "took 32.09-s to load data\n"
     ]
    }
   ],
   "source": [
    "# Load Data\n",
    "\n",
    "if True :\n",
    "    start = time.time()\n",
    "    backed=None # None if not\n",
    "    fname='230502_Ctrl_imp.h5ad' # for full, can maybe get away with ~300G\n",
    "    %memit wt = sc.read_h5ad(os.path.join(pdfp,fname),backed=backed)\n",
    "    print('loaded @'+datetime.datetime.now().strftime('%y%m%d.%H:%M:%S'))\n",
    "    print('took {:.2f}-s to load data'.format(time.time()-start))\n",
    "    \n",
    "# Load Data\n",
    "\n",
    "if True :\n",
    "    start = time.time()\n",
    "    backed=None # None if not\n",
    "    fname='230502_SCA1_imp.h5ad' # for full, can maybe get away with ~300G\n",
    "    %memit mut = sc.read_h5ad(os.path.join(pdfp,fname),backed=backed)\n",
    "    print('loaded @'+datetime.datetime.now().strftime('%y%m%d.%H:%M:%S'))\n",
    "    print('took {:.2f}-s to load data'.format(time.time()-start))"
   ]
  },
  {
   "cell_type": "code",
   "execution_count": 7,
   "metadata": {},
   "outputs": [],
   "source": [
    "genes = ['GABRA6','EOMES','ATP2A3','GAD2','LGI2','ALDH1L1','GDF10','PDGFRA',\n",
    "         'MOG','CX3CR1','FLT1','LUM', 'CA8', 'PPP1R17','NTN1',\n",
    "         'NXPH1', 'PTPRK', 'NRG1','PAX2']"
   ]
  },
  {
   "cell_type": "code",
   "execution_count": 8,
   "metadata": {},
   "outputs": [],
   "source": [
    "wt = wt[:,genes]\n",
    "mut = mut[:,genes]"
   ]
  },
  {
   "cell_type": "code",
   "execution_count": 9,
   "metadata": {},
   "outputs": [],
   "source": [
    "adata = wt.concatenate(mut, batch_key='concat')"
   ]
  },
  {
   "cell_type": "code",
   "execution_count": null,
   "metadata": {},
   "outputs": [],
   "source": [
    "# # save data objects\n",
    "# adata.write(os.path.join(pdfp,'230519_ctrl+SCA1_imp.h5ad'))\n",
    "# print('saved @'+datetime.datetime.now().strftime('%y%m%d.%H:%M:%S'))"
   ]
  },
  {
   "cell_type": "code",
   "execution_count": null,
   "metadata": {
    "scrolled": true
   },
   "outputs": [],
   "source": [
    "sc.pl.umap(adata, color =genes, size = 5, cmap = 'magma', save = '230519_umap_genes_before_magic')"
   ]
  },
  {
   "cell_type": "code",
   "execution_count": null,
   "metadata": {
    "scrolled": false
   },
   "outputs": [],
   "source": [
    "sc.pl.umap(adata, color =genes, size = 5, cmap = 'magma',  layer = 'imputed', save = '230519_umap_genes_after_magic')"
   ]
  }
 ],
 "metadata": {
  "kernelspec": {
   "display_name": "Python 3 (ipykernel)",
   "language": "python",
   "name": "python3"
  },
  "language_info": {
   "codemirror_mode": {
    "name": "ipython",
    "version": 3
   },
   "file_extension": ".py",
   "mimetype": "text/x-python",
   "name": "python",
   "nbconvert_exporter": "python",
   "pygments_lexer": "ipython3",
   "version": "3.8.6"
  }
 },
 "nbformat": 4,
 "nbformat_minor": 4
}
