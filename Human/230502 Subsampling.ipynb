{
 "cells": [
  {
   "cell_type": "code",
   "execution_count": 1,
   "metadata": {},
   "outputs": [],
   "source": [
    "# Import packages\n",
    "import os, sys, glob, re, math, pickle\n",
    "import phate, scprep, magic, meld\n",
    "import graphtools as gt\n",
    "import numpy as np\n",
    "import seaborn as sns\n",
    "import matplotlib.pyplot as plt\n",
    "import pandas as pd\n",
    "import time,random,datetime\n",
    "import networkx as nx\n",
    "import scvelo as scv\n",
    "from sklearn import metrics\n",
    "from sklearn import model_selection\n",
    "from scipy import sparse\n",
    "from scipy.stats import mannwhitneyu, tiecorrect, rankdata\n",
    "from statsmodels.stats.multitest import multipletests\n",
    "import scanpy as sc\n",
    "from sklearn.dummy import DummyClassifier\n",
    "from sklearn.neural_network import MLPClassifier\n",
    "from sklearn.cluster import SpectralClustering, OPTICS, cluster_optics_dbscan, AgglomerativeClustering\n",
    "from bbknn import bbknn\n",
    "import warnings\n",
    "%matplotlib inline\n",
    "%load_ext memory_profiler\n"
   ]
  },
  {
   "cell_type": "code",
   "execution_count": 2,
   "metadata": {},
   "outputs": [],
   "source": [
    "import rpy2.rinterface_lib.callbacks\n",
    "import logging\n",
    "\n",
    "from rpy2.robjects import pandas2ri\n",
    "import anndata2ri\n",
    "\n",
    "# Ignore R warning messages\n",
    "#Note: this can be commented out to get more verbose R output\n",
    "rpy2.rinterface_lib.callbacks.logger.setLevel(logging.ERROR)\n",
    "\n",
    "# Automatically convert rpy2 outputs to pandas dataframes\n",
    "pandas2ri.activate()\n",
    "anndata2ri.activate()\n",
    "%load_ext rpy2.ipython"
   ]
  },
  {
   "cell_type": "code",
   "execution_count": 3,
   "metadata": {},
   "outputs": [],
   "source": [
    "# settings\n",
    "plt.rc('font', size = 8)\n",
    "plt.rc('font', family='sans serif')\n",
    "plt.rcParams['pdf.fonttype']=42\n",
    "plt.rcParams['ps.fonttype']=42\n",
    "plt.rcParams['text.usetex']=False\n",
    "plt.rcParams['legend.frameon']=False\n",
    "plt.rcParams['axes.grid']=False\n",
    "plt.rcParams['legend.markerscale']=0.5\n",
    "sc.set_figure_params(dpi=300,dpi_save=600,\n",
    "                     frameon=False,\n",
    "                     fontsize=8)\n",
    "plt.rcParams['savefig.dpi']=600\n",
    "sc.settings.verbosity=2\n",
    "sc._settings.ScanpyConfig.n_jobs=-1\n",
    "\n",
    "# reproducibility\n",
    "rs = np.random.seed(42)\n",
    "\n",
    "# utils\n",
    "def mwu(X,Y,gene_names,correction=None,debug=False) :\n",
    "    '''\n",
    "    Benjamini-Hochberg correction implemented. Can change to Bonferonni\n",
    "    gene_names (list)\n",
    "    if X,Y single gene expression array, input x.reshape(-1,1), y.reshape(-1,1)\n",
    "    NOTE: get zeros sometimes because difference (p-value is so small)\n",
    "    '''\n",
    "    p=pd.DataFrame()\n",
    "    print('Mann-Whitney U w/Benjamini/Hochberg correction\\n')\n",
    "    start = time.time()\n",
    "    for i,g in enumerate(gene_names) :\n",
    "        if i==np.round(np.quantile(np.arange(len(gene_names)),0.25)) :\n",
    "            print('... 25% completed in {:.2f}-s'.format(time.time()-start))\n",
    "        elif i==np.round(np.quantile(np.arange(len(gene_names)),0.5)) :\n",
    "            print('... 50% completed in {:.2f}-s'.format(time.time()-start))\n",
    "        elif i==np.round(np.quantile(np.arange(len(gene_names)),0.75)) :\n",
    "            print('... 75% completed in {:.2f}-s'.format(time.time()-start))\n",
    "        p.loc[i,'Gene']=g\n",
    "        if (tiecorrect(rankdata(np.concatenate((np.asarray(X[:,i]),np.asarray(Y[:,i])))))==0) :\n",
    "            if debug :\n",
    "                print('P-value not calculable for {}'.format(g))\n",
    "            p.loc[i,'pval']=np.nan\n",
    "        else :\n",
    "            _,p.loc[i,'pval']=mannwhitneyu(X[:,i],Y[:,i]) # continuity correction is True\n",
    "    print('... mwu computed in {:.2f}-s\\n'.format(time.time() - start))\n",
    "    # ignore NaNs, since can't do a comparison on these (change numbers for correction)\n",
    "    p_corrected = p.loc[p['pval'].notna(),:]\n",
    "    new_pvals = multipletests(p_corrected['pval'],method='fdr_bh')\n",
    "    p_corrected['pval_corrected'] = new_pvals[1]\n",
    "    return p_corrected\n",
    "\n",
    "def log2aveFC(X,Y,gene_names,AnnData=None) :\n",
    "    '''not sensitivity to directionality due to subtraction\n",
    "    X and Y full arrays, subsetting performed here\n",
    "    `gene_names` (list): reduced list of genes to calc\n",
    "    `adata` (sc.AnnData): to calculate reduced list. NOTE: assumes X,Y drawn from adata.var_names\n",
    "    '''\n",
    "    if not AnnData is None :\n",
    "        g_idx = [i for i,g in enumerate(AnnData.var_names) if g in gene_names]\n",
    "        fc=pd.DataFrame({'Gene':AnnData.var_names[g_idx],\n",
    "                         'log2FC':np.log2(X[:,g_idx].mean(axis=0)) - np.log2(Y[:,g_idx].mean(axis=0))}) # returns NaN if negative value \n",
    "    else :\n",
    "        fc=pd.DataFrame({'Gene':gene_names,\n",
    "                         'log2FC':np.log2(X.mean(axis=0)) - np.log2(Y.mean(axis=0))})\n",
    "    return fc"
   ]
  },
  {
   "cell_type": "code",
   "execution_count": 4,
   "metadata": {},
   "outputs": [],
   "source": [
    "# fps\n",
    "dfp = '/home/cl2292/project/SCA1_snRNAseq/Human/data/'\n",
    "pfp = '/home/cl2292/project/SCA1_snRNAseq/Human/results_20230402/'\n",
    "pdfp = '/home/cl2292/project/SCA1_snRNAseq/Human/data/processed/'\n",
    "sc.settings.figdir = pfp"
   ]
  },
  {
   "cell_type": "code",
   "execution_count": 5,
   "metadata": {
    "scrolled": true
   },
   "outputs": [
    {
     "name": "stdout",
     "output_type": "stream",
     "text": [
      "peak memory: 43321.00 MiB, increment: 43019.17 MiB\n",
      "loaded @230502.16:33:12\n",
      "took 38.93-s to load data\n",
      "peak memory: 73642.80 MiB, increment: 30328.06 MiB\n",
      "loaded @230502.16:34:02\n",
      "took 49.71-s to load data\n"
     ]
    }
   ],
   "source": [
    "# Load Data\n",
    "\n",
    "if True :\n",
    "    start = time.time()\n",
    "    backed=None # None if not\n",
    "    fname='230502_Ctrl_imp.h5ad' # for full, can maybe get away with ~300G\n",
    "    %memit wt = sc.read_h5ad(os.path.join(pdfp,fname),backed=backed)\n",
    "    print('loaded @'+datetime.datetime.now().strftime('%y%m%d.%H:%M:%S'))\n",
    "    print('took {:.2f}-s to load data'.format(time.time()-start))\n",
    "    \n",
    "# Load Data\n",
    "\n",
    "if True :\n",
    "    start = time.time()\n",
    "    backed=None # None if not\n",
    "    fname='230502_SCA1_imp.h5ad' # for full, can maybe get away with ~300G\n",
    "    %memit mut = sc.read_h5ad(os.path.join(pdfp,fname),backed=backed)\n",
    "    print('loaded @'+datetime.datetime.now().strftime('%y%m%d.%H:%M:%S'))\n",
    "    print('took {:.2f}-s to load data'.format(time.time()-start))"
   ]
  },
  {
   "cell_type": "code",
   "execution_count": 7,
   "metadata": {
    "scrolled": false
   },
   "outputs": [
    {
     "name": "stdout",
     "output_type": "stream",
     "text": [
      "Ctrl    139780\n",
      "Name: genotype, dtype: int64\n",
      "SCA1    97776\n",
      "Name: genotype, dtype: int64\n"
     ]
    }
   ],
   "source": [
    "print(wt.obs.genotype.value_counts())\n",
    "print(mut.obs.genotype.value_counts())"
   ]
  },
  {
   "cell_type": "code",
   "execution_count": 8,
   "metadata": {},
   "outputs": [],
   "source": [
    "wt1 = wt.obs.loc[wt.obs['genotype']=='Ctrl',:].sample(n=97776, replace=False).index.to_list()\n",
    "\n",
    "wt2 = wt[wt.obs.index.isin(wt1), :]"
   ]
  },
  {
   "cell_type": "code",
   "execution_count": 9,
   "metadata": {
    "scrolled": true
   },
   "outputs": [
    {
     "name": "stdout",
     "output_type": "stream",
     "text": [
      "Ctrl    97776\n",
      "Name: genotype, dtype: int64\n",
      "SCA1    97776\n",
      "Name: genotype, dtype: int64\n"
     ]
    }
   ],
   "source": [
    "print(wt2.obs.genotype.value_counts())\n",
    "print(mut.obs.genotype.value_counts())"
   ]
  },
  {
   "cell_type": "code",
   "execution_count": 11,
   "metadata": {},
   "outputs": [
    {
     "name": "stdout",
     "output_type": "stream",
     "text": [
      "GC      80613\n",
      "BG       4384\n",
      "AS       3367\n",
      "MLI2     1960\n",
      "OL       1946\n",
      "MLI1     1684\n",
      "MG       1315\n",
      "END       967\n",
      "OPC       879\n",
      "PER       254\n",
      "PC        224\n",
      "GoC       105\n",
      "UBC        78\n",
      "Name: sub4, dtype: int64\n",
      "\n",
      "\n",
      "GC      86651\n",
      "BG       2445\n",
      "OL       2367\n",
      "AS       1648\n",
      "MLI1     1331\n",
      "MLI2     1088\n",
      "OPC       713\n",
      "MG        638\n",
      "PC        370\n",
      "END       365\n",
      "PER        73\n",
      "GoC        44\n",
      "UBC        43\n",
      "Name: sub4, dtype: int64\n"
     ]
    }
   ],
   "source": [
    "print(mut.obs['sub4'].value_counts())\n",
    "print('\\n')\n",
    "print(wt2.obs['sub4'].value_counts())"
   ]
  },
  {
   "cell_type": "code",
   "execution_count": 12,
   "metadata": {},
   "outputs": [
    {
     "name": "stdout",
     "output_type": "stream",
     "text": [
      "saved @230502.17:09:31\n"
     ]
    }
   ],
   "source": [
    "# save data objects\n",
    "wt2.write(os.path.join(pdfp,'230502_Ctrl_sampling.h5ad'))\n",
    "#sample_mut.write(os.path.join(dfp,'211102_SCA1_sampling.h5ad'))\n",
    "print('saved @'+datetime.datetime.now().strftime('%y%m%d.%H:%M:%S'))"
   ]
  },
  {
   "cell_type": "code",
   "execution_count": 18,
   "metadata": {},
   "outputs": [
    {
     "name": "stdout",
     "output_type": "stream",
     "text": [
      "peak memory: 91374.45 MiB, increment: 29977.86 MiB\n",
      "loaded @230502.18:19:42\n",
      "took 28.57-s to load data\n",
      "peak memory: 91423.40 MiB, increment: 30245.30 MiB\n",
      "loaded @230502.18:20:12\n",
      "took 29.67-s to load data\n"
     ]
    }
   ],
   "source": [
    "# Load Data\n",
    "\n",
    "if True :\n",
    "    start = time.time()\n",
    "    backed=None # None if not\n",
    "    fname='230502_Ctrl_sampling.h5ad' # for full, can maybe get away with ~300G\n",
    "    %memit wt = sc.read_h5ad(os.path.join(pdfp,fname),backed=backed)\n",
    "    print('loaded @'+datetime.datetime.now().strftime('%y%m%d.%H:%M:%S'))\n",
    "    print('took {:.2f}-s to load data'.format(time.time()-start))\n",
    "    \n",
    "# Load Data\n",
    "\n",
    "if True :\n",
    "    start = time.time()\n",
    "    backed=None # None if not\n",
    "    fname='230502_SCA1_imp.h5ad' # for full, can maybe get away with ~300G\n",
    "    %memit mut = sc.read_h5ad(os.path.join(pdfp,fname),backed=backed)\n",
    "    print('loaded @'+datetime.datetime.now().strftime('%y%m%d.%H:%M:%S'))\n",
    "    print('took {:.2f}-s to load data'.format(time.time()-start))"
   ]
  },
  {
   "cell_type": "code",
   "execution_count": 14,
   "metadata": {},
   "outputs": [],
   "source": [
    "# subset data to reduce data size and memory requirement\n",
    "obs='sub4'\n",
    "wt = wt[(wt.obs[obs] == 'UBC')|(wt.obs[obs] == 'PC')|(wt.obs[obs] == 'MLI1')|(wt.obs[obs] == 'MLI2')|(wt.obs[obs] == 'GOC'), :]\n",
    "mut = mut[(mut.obs[obs] == 'UBC')|(mut.obs[obs] == 'PC')|(mut.obs[obs] == 'MLI1')|(mut.obs[obs] == 'MLI2')|(mut.obs[obs] == 'GOC'), :]\n",
    "# save data objects\n",
    "wt.write(os.path.join(pdfp,'230502_Ctrl_sampling_UBC PC MLI1 MLI2 GOC.h5ad'))\n",
    "mut.write(os.path.join(pdfp,'230502_SCA1_sampling_UBC PC MLI1 MLI2 GOC.h5ad'))\n",
    "print('saved @'+datetime.datetime.now().strftime('%y%m%d.%H:%M:%S'))"
   ]
  },
  {
   "cell_type": "code",
   "execution_count": 17,
   "metadata": {},
   "outputs": [
    {
     "name": "stdout",
     "output_type": "stream",
     "text": [
      "saved @230502.18:18:42\n"
     ]
    }
   ],
   "source": [
    "# subset data to reduce data size and memory requirement\n",
    "obs='sub4'\n",
    "wt = wt[(wt.obs[obs] == 'AS')|(wt.obs[obs] == 'BG')|(wt.obs[obs] == 'OPC')|(wt.obs[obs] == 'OL')\n",
    "        |(wt.obs[obs] == 'MG')|(wt.obs[obs] == 'PER')|(wt.obs[obs] == 'END'), :]\n",
    "mut = mut[(mut.obs[obs] == 'AS')|(mut.obs[obs] == 'BG')|(mut.obs[obs] == 'OPC')|(mut.obs[obs] == 'OL')\n",
    "          |(mut.obs[obs] == 'MG')|(mut.obs[obs] == 'PER')|(mut.obs[obs] == 'END'), :]\n",
    "# save data objects\n",
    "wt.write(os.path.join(pdfp,'230502_Ctrl_sampling_AS BG OPC OL MG PER END.h5ad'))\n",
    "mut.write(os.path.join(pdfp,'230502_SCA1_sampling_AS BG OPC OL MG PER END.h5ad'))\n",
    "print('saved @'+datetime.datetime.now().strftime('%y%m%d.%H:%M:%S'))"
   ]
  },
  {
   "cell_type": "code",
   "execution_count": 19,
   "metadata": {},
   "outputs": [
    {
     "name": "stdout",
     "output_type": "stream",
     "text": [
      "saved @230502.18:21:34\n"
     ]
    }
   ],
   "source": [
    "# subset data to reduce data size and memory requirement\n",
    "obs='sub4'\n",
    "wt = wt[(wt.obs[obs] == 'GC'), :]\n",
    "mut = mut[(mut.obs[obs] == 'GC'), :]\n",
    "# save data objects\n",
    "wt.write(os.path.join(pdfp,'230502_Ctrl_sampling_GC.h5ad'))\n",
    "mut.write(os.path.join(pdfp,'230502_SCA1_sampling_GC.h5ad'))\n",
    "print('saved @'+datetime.datetime.now().strftime('%y%m%d.%H:%M:%S'))"
   ]
  },
  {
   "cell_type": "code",
   "execution_count": 5,
   "metadata": {},
   "outputs": [
    {
     "name": "stdout",
     "output_type": "stream",
     "text": [
      "peak memory: 26869.19 MiB, increment: 26568.38 MiB\n",
      "loaded @230503.11:50:10\n",
      "took 25.83-s to load data\n",
      "peak memory: 51782.29 MiB, increment: 24913.08 MiB\n",
      "loaded @230503.11:50:35\n",
      "took 24.86-s to load data\n"
     ]
    }
   ],
   "source": [
    "# Load Data\n",
    "\n",
    "if True :\n",
    "    start = time.time()\n",
    "    backed=None # None if not\n",
    "    fname='230502_Ctrl_sampling_GC.h5ad' # for full, can maybe get away with ~300G\n",
    "    %memit wt = sc.read_h5ad(os.path.join(pdfp,fname),backed=backed)\n",
    "    print('loaded @'+datetime.datetime.now().strftime('%y%m%d.%H:%M:%S'))\n",
    "    print('took {:.2f}-s to load data'.format(time.time()-start))\n",
    "    \n",
    "# Load Data\n",
    "\n",
    "if True :\n",
    "    start = time.time()\n",
    "    backed=None # None if not\n",
    "    fname='230502_SCA1_sampling_GC.h5ad' # for full, can maybe get away with ~300G\n",
    "    %memit mut = sc.read_h5ad(os.path.join(pdfp,fname),backed=backed)\n",
    "    print('loaded @'+datetime.datetime.now().strftime('%y%m%d.%H:%M:%S'))\n",
    "    print('took {:.2f}-s to load data'.format(time.time()-start))"
   ]
  },
  {
   "cell_type": "code",
   "execution_count": 6,
   "metadata": {},
   "outputs": [],
   "source": [
    "wt1 = wt.obs.loc[wt.obs['genotype']=='Ctrl',:].sample(n=50000, replace=False).index.to_list()\n",
    "\n",
    "wt2 = wt[wt.obs.index.isin(wt1), :]\n",
    "\n",
    "mut1 = mut.obs.loc[mut.obs['genotype']=='SCA1',:].sample(n=50000, replace=False).index.to_list()\n",
    "\n",
    "mut2 = mut[mut.obs.index.isin(mut1), :]"
   ]
  },
  {
   "cell_type": "code",
   "execution_count": 9,
   "metadata": {},
   "outputs": [
    {
     "name": "stdout",
     "output_type": "stream",
     "text": [
      "saved @230503.11:53:12\n"
     ]
    }
   ],
   "source": [
    "wt2.write(os.path.join(pdfp,'230503_Ctrl_sampling_GC50000.h5ad'))\n",
    "mut2.write(os.path.join(pdfp,'230503_SCA1_sampling_GC50000.h5ad'))\n",
    "print('saved @'+datetime.datetime.now().strftime('%y%m%d.%H:%M:%S'))"
   ]
  },
  {
   "cell_type": "code",
   "execution_count": 8,
   "metadata": {},
   "outputs": [
    {
     "name": "stdout",
     "output_type": "stream",
     "text": [
      "GC    50000\n",
      "Name: sub4, dtype: int64\n",
      "GC    50000\n",
      "Name: sub4, dtype: int64\n"
     ]
    }
   ],
   "source": [
    "print(wt2.obs.sub4.value_counts())\n",
    "print(mut2.obs.sub4.value_counts())"
   ]
  }
 ],
 "metadata": {
  "kernelspec": {
   "display_name": "Python 3 (ipykernel)",
   "language": "python",
   "name": "python3"
  },
  "language_info": {
   "codemirror_mode": {
    "name": "ipython",
    "version": 3
   },
   "file_extension": ".py",
   "mimetype": "text/x-python",
   "name": "python",
   "nbconvert_exporter": "python",
   "pygments_lexer": "ipython3",
   "version": "3.11.3"
  }
 },
 "nbformat": 4,
 "nbformat_minor": 4
}
