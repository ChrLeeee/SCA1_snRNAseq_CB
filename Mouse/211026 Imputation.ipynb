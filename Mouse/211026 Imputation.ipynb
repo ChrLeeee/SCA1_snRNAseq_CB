{
 "cells": [
  {
   "cell_type": "code",
   "execution_count": 1,
   "metadata": {},
   "outputs": [],
   "source": [
    "# Import packages\n",
    "import os, sys, glob, re, math, pickle\n",
    "import phate, scprep, magic, meld\n",
    "import graphtools as gt\n",
    "import numpy as np\n",
    "import seaborn as sns\n",
    "import matplotlib.pyplot as plt\n",
    "import pandas as pd\n",
    "import time,random,datetime\n",
    "import networkx as nx\n",
    "import scvelo as scv\n",
    "from sklearn import metrics\n",
    "from sklearn import model_selection\n",
    "from scipy import sparse\n",
    "from scipy.stats import mannwhitneyu, tiecorrect, rankdata\n",
    "from statsmodels.stats.multitest import multipletests\n",
    "import scanpy as sc\n",
    "from sklearn.dummy import DummyClassifier\n",
    "from sklearn.neural_network import MLPClassifier\n",
    "from sklearn.cluster import SpectralClustering, OPTICS, cluster_optics_dbscan, AgglomerativeClustering\n",
    "from bbknn import bbknn\n",
    "%matplotlib inline\n",
    "%load_ext memory_profiler\n"
   ]
  },
  {
   "cell_type": "code",
   "execution_count": 2,
   "metadata": {},
   "outputs": [],
   "source": [
    "import rpy2.rinterface_lib.callbacks\n",
    "import logging\n",
    "\n",
    "from rpy2.robjects import pandas2ri\n",
    "import anndata2ri\n",
    "\n",
    "# Ignore R warning messages\n",
    "#Note: this can be commented out to get more verbose R output\n",
    "rpy2.rinterface_lib.callbacks.logger.setLevel(logging.ERROR)\n",
    "\n",
    "# Automatically convert rpy2 outputs to pandas dataframes\n",
    "pandas2ri.activate()\n",
    "anndata2ri.activate()\n",
    "%load_ext rpy2.ipython"
   ]
  },
  {
   "cell_type": "code",
   "execution_count": 3,
   "metadata": {},
   "outputs": [],
   "source": [
    "# settings\n",
    "plt.rc('font', size = 8)\n",
    "plt.rc('font', family='sans serif')\n",
    "plt.rcParams['pdf.fonttype']=42\n",
    "plt.rcParams['ps.fonttype']=42\n",
    "plt.rcParams['text.usetex']=False\n",
    "plt.rcParams['legend.frameon']=False\n",
    "plt.rcParams['axes.grid']=False\n",
    "plt.rcParams['legend.markerscale']=0.5\n",
    "sc.set_figure_params(dpi=300,dpi_save=600,\n",
    "                     frameon=False,\n",
    "                     fontsize=8)\n",
    "plt.rcParams['savefig.dpi']=600\n",
    "sc.settings.verbosity=2\n",
    "sc._settings.ScanpyConfig.n_jobs=-1\n"
   ]
  },
  {
   "cell_type": "code",
   "execution_count": 4,
   "metadata": {},
   "outputs": [],
   "source": [
    "# reproducibility\n",
    "rs = np.random.seed(42)\n",
    "\n",
    "# utils\n",
    "def mwu(X,Y,gene_names,correction=None,debug=False) :\n",
    "    '''\n",
    "    Benjamini-Hochberg correction implemented. Can change to Bonferonni\n",
    "    gene_names (list)\n",
    "    if X,Y single gene expression array, input x.reshape(-1,1), y.reshape(-1,1)\n",
    "    NOTE: get zeros sometimes because difference (p-value is so small)\n",
    "    '''\n",
    "    p=pd.DataFrame()\n",
    "    print('Mann-Whitney U w/Benjamini/Hochberg correction\\n')\n",
    "    start = time.time()\n",
    "    for i,g in enumerate(gene_names) :\n",
    "        if i==np.round(np.quantile(np.arange(len(gene_names)),0.25)) :\n",
    "            print('... 25% completed in {:.2f}-s'.format(time.time()-start))\n",
    "        elif i==np.round(np.quantile(np.arange(len(gene_names)),0.5)) :\n",
    "            print('... 50% completed in {:.2f}-s'.format(time.time()-start))\n",
    "        elif i==np.round(np.quantile(np.arange(len(gene_names)),0.75)) :\n",
    "            print('... 75% completed in {:.2f}-s'.format(time.time()-start))\n",
    "        p.loc[i,'Gene']=g\n",
    "        if (tiecorrect(rankdata(np.concatenate((np.asarray(X[:,i]),np.asarray(Y[:,i])))))==0) :\n",
    "            if debug :\n",
    "                print('P-value not calculable for {}'.format(g))\n",
    "            p.loc[i,'pval']=np.nan\n",
    "        else :\n",
    "            _,p.loc[i,'pval']=mannwhitneyu(X[:,i],Y[:,i]) # continuity correction is True\n",
    "    print('... mwu computed in {:.2f}-s\\n'.format(time.time() - start))\n",
    "    # ignore NaNs, since can't do a comparison on these (change numbers for correction)\n",
    "    p_corrected = p.loc[p['pval'].notna(),:]\n",
    "    new_pvals = multipletests(p_corrected['pval'],method='fdr_bh')\n",
    "    p_corrected['pval_corrected'] = new_pvals[1]\n",
    "    return p_corrected\n",
    "\n",
    "def log2aveFC(X,Y,gene_names,AnnData=None) :\n",
    "    '''not sensitivity to directionality due to subtraction\n",
    "    X and Y full arrays, subsetting performed here\n",
    "    `gene_names` (list): reduced list of genes to calc\n",
    "    `adata` (sc.AnnData): to calculate reduced list. NOTE: assumes X,Y drawn from adata.var_names\n",
    "    '''\n",
    "    if not AnnData is None :\n",
    "        g_idx = [i for i,g in enumerate(AnnData.var_names) if g in gene_names]\n",
    "        fc=pd.DataFrame({'Gene':AnnData.var_names[g_idx],\n",
    "                         'log2FC':np.log2(X[:,g_idx].mean(axis=0)) - np.log2(Y[:,g_idx].mean(axis=0))}) # returns NaN if negative value \n",
    "    else :\n",
    "        fc=pd.DataFrame({'Gene':gene_names,\n",
    "                         'log2FC':np.log2(X.mean(axis=0)) - np.log2(Y.mean(axis=0))})\n",
    "    return fc"
   ]
  },
  {
   "cell_type": "code",
   "execution_count": 5,
   "metadata": {},
   "outputs": [],
   "source": [
    "# fps\n",
    "dfp = '/home/cl2292/project/SCA1_snRNAseq/Mouse/data/'\n",
    "pfp = '/home/cl2292/project/SCA1_snRNAseq/Mouse/results/'\n",
    "sc.settings.figdir = pfp"
   ]
  },
  {
   "cell_type": "code",
   "execution_count": 6,
   "metadata": {},
   "outputs": [
    {
     "name": "stdout",
     "output_type": "stream",
     "text": [
      "peak memory: 10849.96 MiB, increment: 10573.33 MiB\n",
      "loaded @211027.19:19:46\n",
      "took 16.86-s to load data\n"
     ]
    }
   ],
   "source": [
    "# Load Data\n",
    "\n",
    "if True :\n",
    "    start = time.time()\n",
    "    backed=None # None if not\n",
    "    fname='211027_mouse.h5ad' # for full, can maybe get away with ~300G\n",
    "    %memit adata = sc.read_h5ad(os.path.join(dfp,fname),backed=backed)\n",
    "    print('loaded @'+datetime.datetime.now().strftime('%y%m%d.%H:%M:%S'))\n",
    "    print('took {:.2f}-s to load data'.format(time.time()-start))\n",
    "    "
   ]
  },
  {
   "cell_type": "code",
   "execution_count": 7,
   "metadata": {},
   "outputs": [],
   "source": [
    "#Imputation\n",
    "\n",
    "wt = adata[adata.obs['genotype']=='WT', :]\n",
    "mut = adata[adata.obs['genotype']=='SCA1', :]"
   ]
  },
  {
   "cell_type": "code",
   "execution_count": 8,
   "metadata": {},
   "outputs": [
    {
     "name": "stdout",
     "output_type": "stream",
     "text": [
      "Starting imputation for WT\n",
      "\n"
     ]
    },
    {
     "name": "stderr",
     "output_type": "stream",
     "text": [
      "Trying to set attribute `.obs` of view, copying.\n"
     ]
    },
    {
     "name": "stdout",
     "output_type": "stream",
     "text": [
      "computing PCA\n",
      "    with n_comps=50\n",
      "    finished (0:02:06)\n",
      "computing neighbors\n",
      "    using 'X_pca' with n_pcs = 45\n",
      "    finished (0:00:58)\n",
      "Running MAGIC on 164722 cells and 26374 genes.\n",
      "Using precomputed graph and diffusion operator...\n",
      "Running MAGIC with `solver='exact'` on 26374-dimensional data may take a long time. Consider denoising specific genes with `genes=<list-like>` or using `solver='approximate'`.\n",
      "Calculating imputation...\n",
      "Calculated imputation in 269.61 seconds.\n",
      "\n",
      "  imputation in 7.78-min\n",
      "saved @211027.19:28:09\n",
      "\n",
      " Starting imputation for SCA1\n",
      "\n"
     ]
    },
    {
     "name": "stderr",
     "output_type": "stream",
     "text": [
      "Trying to set attribute `.obs` of view, copying.\n"
     ]
    },
    {
     "name": "stdout",
     "output_type": "stream",
     "text": [
      "computing PCA\n",
      "    with n_comps=50\n",
      "    finished (0:02:00)\n",
      "computing neighbors\n",
      "    using 'X_pca' with n_pcs = 45\n",
      "    finished (0:00:49)\n",
      "Running MAGIC on 153590 cells and 26374 genes.\n",
      "Using precomputed graph and diffusion operator...\n",
      "Running MAGIC with `solver='exact'` on 26374-dimensional data may take a long time. Consider denoising specific genes with `genes=<list-like>` or using `solver='approximate'`.\n",
      "Calculating imputation...\n",
      "Calculated imputation in 337.11 seconds.\n",
      "\n",
      "  imputation in 8.66-min\n",
      "saved @211027.19:37:23\n"
     ]
    }
   ],
   "source": [
    "#k=45, t=3\n",
    "print('Starting imputation for {}\\n'.format('WT'))\n",
    "tic = time.time()\n",
    "\n",
    "wt = adata[adata.obs['genotype']=='WT', :]\n",
    "wt.obs['value'] = 0\n",
    "sc.pp.pca(wt)\n",
    "sc.pp.neighbors(wt, n_pcs=45)\n",
    "\n",
    "\n",
    "# MAGIC\n",
    "G = gt.Graph(data=wt.obsp['connectivities']+sparse.diags([1]*wt.shape[0],format='csr'),\n",
    "             precomputed='adjacency',\n",
    "             use_pygsp=True)\n",
    "G.knn_max = None\n",
    "\n",
    "# MAGIC\n",
    "magic_op=magic.MAGIC().fit(X=wt.X,graph=G) # running fit_transform produces wrong shape\n",
    "wt.layers['imputed']=magic_op.transform(wt.X,genes='all_genes')\n",
    "\n",
    "print('\\n  imputation in {:.2f}-min'.format((time.time() - tic)/60))\n",
    "\n",
    "\n",
    "# save data objects\n",
    "wt.write(os.path.join(dfp,'211027_WT_imp.h5ad'))\n",
    "print('saved @'+datetime.datetime.now().strftime('%y%m%d.%H:%M:%S'))\n",
    "\n",
    "\n",
    "\n",
    "\n",
    "print('\\n Starting imputation for {}\\n'.format('SCA1'))\n",
    "tic = time.time()\n",
    "\n",
    "mut = adata[adata.obs['genotype']=='SCA1', :]\n",
    "mut.obs['value'] = 0\n",
    "sc.pp.pca(mut)\n",
    "sc.pp.neighbors(mut, n_pcs=45)\n",
    "\n",
    "# MAGIC\n",
    "G = gt.Graph(data=mut.obsp['connectivities']+sparse.diags([1]*mut.shape[0],format='csr'),\n",
    "             precomputed='adjacency',\n",
    "             use_pygsp=True)\n",
    "G.knn_max = None\n",
    "\n",
    "# MAGIC\n",
    "magic_op=magic.MAGIC().fit(X=mut.X,graph=G) # running fit_transform produces wrong shape\n",
    "mut.layers['imputed']=magic_op.transform(mut.X,genes='all_genes')\n",
    "\n",
    "print('\\n  imputation in {:.2f}-min'.format((time.time() - tic)/60))\n",
    "\n",
    "# save data objects\n",
    "mut.write(os.path.join(dfp,'211027_SCA1_imp.h5ad'))\n",
    "print('saved @'+datetime.datetime.now().strftime('%y%m%d.%H:%M:%S'))"
   ]
  }
 ],
 "metadata": {
  "kernelspec": {
   "display_name": "Python 3 (ipykernel)",
   "language": "python",
   "name": "python3"
  },
  "language_info": {
   "codemirror_mode": {
    "name": "ipython",
    "version": 3
   },
   "file_extension": ".py",
   "mimetype": "text/x-python",
   "name": "python",
   "nbconvert_exporter": "python",
   "pygments_lexer": "ipython3",
   "version": "3.11.3"
  }
 },
 "nbformat": 4,
 "nbformat_minor": 4
}
